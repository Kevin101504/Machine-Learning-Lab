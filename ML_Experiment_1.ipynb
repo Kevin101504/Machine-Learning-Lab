{
  "nbformat": 4,
  "nbformat_minor": 0,
  "metadata": {
    "colab": {
      "provenance": [],
      "authorship_tag": "ABX9TyO8SGPUCoyr9De8w9WOevyQ",
      "include_colab_link": true
    },
    "kernelspec": {
      "name": "python3",
      "display_name": "Python 3"
    },
    "language_info": {
      "name": "python"
    }
  },
  "cells": [
    {
      "cell_type": "markdown",
      "metadata": {
        "id": "view-in-github",
        "colab_type": "text"
      },
      "source": [
        "<a href=\"https://colab.research.google.com/github/Kevin101504/Machine-Learning-Lab/blob/main/ML_Experiment_1.ipynb\" target=\"_parent\"><img src=\"https://colab.research.google.com/assets/colab-badge.svg\" alt=\"Open In Colab\"/></a>"
      ]
    },
    {
      "cell_type": "code",
      "execution_count": null,
      "metadata": {
        "colab": {
          "base_uri": "https://localhost:8080/"
        },
        "id": "BfFgf1AJIbjH",
        "outputId": "a24fafba-b144-4f83-ecf5-1f208541f388"
      },
      "outputs": [
        {
          "output_type": "stream",
          "name": "stdout",
          "text": [
            "Enter num1:5\n",
            "Enter num2:3\n",
            "8\n"
          ]
        }
      ],
      "source": [
        "num1=int(input(\"Enter num1:\"))\n",
        "num2=int(input(\"Enter num2:\"))\n",
        "print(num1+num2)"
      ]
    },
    {
      "cell_type": "code",
      "source": [
        "num=int(input(\"Enter num\"))\n",
        "if num%2==0:\n",
        "  print(\"Even\")\n",
        "else:\n",
        "  print(\"Odd\")"
      ],
      "metadata": {
        "colab": {
          "base_uri": "https://localhost:8080/"
        },
        "id": "Ca1c9YJaJYsS",
        "outputId": "443c82b0-45bb-4cea-e85d-40179ab13624"
      },
      "execution_count": null,
      "outputs": [
        {
          "output_type": "stream",
          "name": "stdout",
          "text": [
            "Enter num54\n",
            "Even\n"
          ]
        }
      ]
    },
    {
      "cell_type": "code",
      "source": [
        "num=int(input(\"Enter num\"))\n",
        "k=0\n",
        "for i in range (2,num):\n",
        "  if(num%i==0):\n",
        "    k+=1\n",
        "if num==1:\n",
        "  print(\"Not Prime\")\n",
        "elif k==0:\n",
        "  print(\"Prime\")\n",
        "else:\n",
        "  print(\"Not Prime\")"
      ],
      "metadata": {
        "colab": {
          "base_uri": "https://localhost:8080/"
        },
        "id": "PVJh1TX8Jv3M",
        "outputId": "ab1e8432-fcfa-406d-81b2-dc9b35b7413e"
      },
      "execution_count": null,
      "outputs": [
        {
          "output_type": "stream",
          "name": "stdout",
          "text": [
            "Enter num4\n",
            "Not Prime\n"
          ]
        }
      ]
    },
    {
      "cell_type": "code",
      "source": [
        "num1=int(input(\"Enter num1:\"))\n",
        "num2=int(input(\"Enter num2:\"))\n",
        "num3=int(input(\"Enter num3:\"))\n",
        "num4=int(input(\"Enter num4:\"))\n",
        "numlar=max(num1,num2,num3,num4)\n",
        "print(numlar)"
      ],
      "metadata": {
        "colab": {
          "base_uri": "https://localhost:8080/"
        },
        "id": "pdBEGAMwL4zE",
        "outputId": "c30985e9-3788-4a10-ea74-118463d3b425"
      },
      "execution_count": null,
      "outputs": [
        {
          "output_type": "stream",
          "name": "stdout",
          "text": [
            "Enter num1:6\n",
            "Enter num2:4\n",
            "Enter num3:8\n",
            "Enter num4:2\n",
            "8\n"
          ]
        }
      ]
    },
    {
      "cell_type": "code",
      "source": [
        "val=1\n",
        "num=int(input(\"Enter a num:\"))\n",
        "for i in range(1,num+1):\n",
        "  val=val*i\n",
        "print(val)"
      ],
      "metadata": {
        "colab": {
          "base_uri": "https://localhost:8080/"
        },
        "id": "pFkDjcrTOw7x",
        "outputId": "f324ad3e-e2b0-4a73-a2d2-4c2731188655"
      },
      "execution_count": null,
      "outputs": [
        {
          "output_type": "stream",
          "name": "stdout",
          "text": [
            "Enter a num:5\n",
            "120\n"
          ]
        }
      ]
    },
    {
      "cell_type": "code",
      "source": [
        "num=int(input(\"Enter a num:\"))\n",
        "num=str(num)\n",
        "num1=num[::-1]\n",
        "num1=int(num1)\n",
        "print(num1)"
      ],
      "metadata": {
        "colab": {
          "base_uri": "https://localhost:8080/"
        },
        "id": "GCi1-WpVPhx6",
        "outputId": "ceec106a-c95e-42b8-eddb-e7100b4aa56a"
      },
      "execution_count": null,
      "outputs": [
        {
          "output_type": "stream",
          "name": "stdout",
          "text": [
            "Enter a num:5467\n",
            "7645\n"
          ]
        }
      ]
    },
    {
      "cell_type": "code",
      "source": [
        "str1=input(\"Enter String:\")\n",
        "temp=str1[::-1]\n",
        "if temp==str1:\n",
        "  print(\"They are palindrome\")\n",
        "else:\n",
        "  print(\"They are not palindrome\")"
      ],
      "metadata": {
        "colab": {
          "base_uri": "https://localhost:8080/"
        },
        "id": "GZ_DmLmxQcWc",
        "outputId": "35a0b91a-9cc3-4d05-f326-1822b7930938"
      },
      "execution_count": null,
      "outputs": [
        {
          "output_type": "stream",
          "name": "stdout",
          "text": [
            "Enter String:tuout\n",
            "They are palindrome\n"
          ]
        }
      ]
    },
    {
      "cell_type": "code",
      "source": [
        "num=int(input(\"Enter num:\"))\n",
        "sum=0\n",
        "digit=0\n",
        "while num:\n",
        "  digit=num%10\n",
        "  num=num//10\n",
        "  sum=sum+digit\n",
        "print(sum)"
      ],
      "metadata": {
        "colab": {
          "base_uri": "https://localhost:8080/"
        },
        "id": "1bdan0pDQ8H4",
        "outputId": "7ab7d001-6387-4182-b9ca-e77cfe9d0203"
      },
      "execution_count": null,
      "outputs": [
        {
          "output_type": "stream",
          "name": "stdout",
          "text": [
            "Enter num:456\n",
            "15\n"
          ]
        }
      ]
    },
    {
      "cell_type": "code",
      "source": [
        "num=int(input(\"Enter num\"))\n",
        "for i in range(0,11):\n",
        "  print(i,\" x \",num,\" = \",num*i,\"\\n\")\n"
      ],
      "metadata": {
        "colab": {
          "base_uri": "https://localhost:8080/"
        },
        "id": "arj_K1e5R7yA",
        "outputId": "7b93a1e0-204b-4e00-d755-42d147404f45"
      },
      "execution_count": null,
      "outputs": [
        {
          "output_type": "stream",
          "name": "stdout",
          "text": [
            "Enter num6\n",
            "0  x  6  =  0 \n",
            "\n",
            "1  x  6  =  6 \n",
            "\n",
            "2  x  6  =  12 \n",
            "\n",
            "3  x  6  =  18 \n",
            "\n",
            "4  x  6  =  24 \n",
            "\n",
            "5  x  6  =  30 \n",
            "\n",
            "6  x  6  =  36 \n",
            "\n",
            "7  x  6  =  42 \n",
            "\n",
            "8  x  6  =  48 \n",
            "\n",
            "9  x  6  =  54 \n",
            "\n",
            "10  x  6  =  60 \n",
            "\n"
          ]
        }
      ]
    },
    {
      "cell_type": "code",
      "source": [
        "num1=int(input(\"Enter num1\"))\n",
        "num2=int(input(\"Enter num2\"))\n",
        "operator=input(\"Enter Operation\")\n",
        "match operator:\n",
        "  case \"+\":\n",
        "    print(num1+num2)\n",
        "  case \"-\":\n",
        "    print(num1-num2)\n",
        "  case \"*\":\n",
        "    print(num1*num2)\n",
        "  case \"/\":\n",
        "    print(num1/num2)\n",
        "  case _:\n",
        "    print(\"Enter valid operator\")\n",
        "\n"
      ],
      "metadata": {
        "id": "UH8XFKpHTBQw",
        "colab": {
          "base_uri": "https://localhost:8080/"
        },
        "outputId": "68afefe2-8600-4b38-d7c6-70158a4bed77"
      },
      "execution_count": null,
      "outputs": [
        {
          "output_type": "stream",
          "name": "stdout",
          "text": [
            "Enter num110\n",
            "Enter num25\n",
            "Enter Operation/\n",
            "2.0\n"
          ]
        }
      ]
    },
    {
      "cell_type": "code",
      "source": [
        "i = int(input(\"Enter a number: \"))\n",
        "for i in range(0,i+1):\n",
        "  for j in range(0,i):\n",
        "    print(\"*\",end=\"\")\n",
        "  print(\"\\n\")\n"
      ],
      "metadata": {
        "colab": {
          "base_uri": "https://localhost:8080/"
        },
        "id": "mGDUNEkjCym8",
        "outputId": "4fefcca8-74ec-4ab6-8d89-0e9bc6495b80"
      },
      "execution_count": null,
      "outputs": [
        {
          "output_type": "stream",
          "name": "stdout",
          "text": [
            "Enter a number: 4\n",
            "\n",
            "\n",
            "*\n",
            "\n",
            "**\n",
            "\n",
            "***\n",
            "\n",
            "****\n",
            "\n"
          ]
        }
      ]
    }
  ]
}