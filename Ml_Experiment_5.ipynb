{
  "nbformat": 4,
  "nbformat_minor": 0,
  "metadata": {
    "colab": {
      "provenance": [],
      "authorship_tag": "ABX9TyNGCheG+msVa/xz0iAg3lbo",
      "include_colab_link": true
    },
    "kernelspec": {
      "name": "python3",
      "display_name": "Python 3"
    },
    "language_info": {
      "name": "python"
    }
  },
  "cells": [
    {
      "cell_type": "markdown",
      "metadata": {
        "id": "view-in-github",
        "colab_type": "text"
      },
      "source": [
        "<a href=\"https://colab.research.google.com/github/Kevin101504/Machine-Learning-Lab/blob/main/Ml_Experiment_5.ipynb\" target=\"_parent\"><img src=\"https://colab.research.google.com/assets/colab-badge.svg\" alt=\"Open In Colab\"/></a>"
      ]
    },
    {
      "cell_type": "code",
      "execution_count": null,
      "metadata": {
        "id": "PYNOOk1qgmWL"
      },
      "outputs": [],
      "source": [
        "import pandas as pd\n",
        "from sklearn.cluster import KMeans\n",
        "from sklearn.datasets import load_iris\n",
        "from sklearn.metrics import confusion_matrix, accuracy_score\n",
        "import numpy as np\n",
        "from scipy.optimize import linear_sum_assignment"
      ]
    },
    {
      "cell_type": "code",
      "source": [
        "#Load inbuilt Iris dataset\n",
        "iris=load_iris()\n",
        "X=iris.data\n",
        "y=iris.target #actual labels"
      ],
      "metadata": {
        "id": "fF33mlANiM40"
      },
      "execution_count": null,
      "outputs": []
    },
    {
      "cell_type": "code",
      "source": [],
      "metadata": {
        "id": "xPpYC3RTpwj6"
      },
      "execution_count": null,
      "outputs": []
    },
    {
      "cell_type": "code",
      "source": [
        "#Apply KMeans\n",
        "kmeans = KMeans(n_clusters=3,random_state=42,n_init=\"auto\")\n",
        "y_kmeans = kmeans.fit_predict(X)"
      ],
      "metadata": {
        "id": "tQA9134FiZ6t"
      },
      "execution_count": null,
      "outputs": []
    },
    {
      "cell_type": "code",
      "source": [
        "#Create DataFrame\n",
        "df=pd.DataFrame(X,columns=iris.feature_names)\n",
        "df['Actual']=y\n",
        "df['Cluster']=y_kmeans\n",
        "print(\"Cluster Centers:\\n\",pd.DataFrame(kmeans.cluster_centers_,columns=iris.feature_names))\n",
        "print(\"\\nSample clustered \\n\",df.head())\n"
      ],
      "metadata": {
        "colab": {
          "base_uri": "https://localhost:8080/"
        },
        "id": "9TUpCP8Hi-dO",
        "outputId": "9bc4e0fd-f956-40b1-d7f3-da1b0661619a"
      },
      "execution_count": null,
      "outputs": [
        {
          "output_type": "stream",
          "name": "stdout",
          "text": [
            "Cluster Centers:\n",
            "    sepal length (cm)  sepal width (cm)  petal length (cm)  petal width (cm)\n",
            "0           6.853846          3.076923           5.715385          2.053846\n",
            "1           5.006000          3.428000           1.462000          0.246000\n",
            "2           5.883607          2.740984           4.388525          1.434426\n",
            "\n",
            "Sample clustered \n",
            "    sepal length (cm)  sepal width (cm)  petal length (cm)  petal width (cm)  \\\n",
            "0                5.1               3.5                1.4               0.2   \n",
            "1                4.9               3.0                1.4               0.2   \n",
            "2                4.7               3.2                1.3               0.2   \n",
            "3                4.6               3.1                1.5               0.2   \n",
            "4                5.0               3.6                1.4               0.2   \n",
            "\n",
            "   Actual  Cluster  \n",
            "0       0        1  \n",
            "1       0        1  \n",
            "2       0        1  \n",
            "3       0        1  \n",
            "4       0        1  \n"
          ]
        }
      ]
    },
    {
      "cell_type": "code",
      "source": [
        "#Evaluate clustering\n",
        "cm = confusion_matrix(y,y_kmeans)\n",
        "print(\"\\nConfusion Matrix:\\n\",cm)"
      ],
      "metadata": {
        "colab": {
          "base_uri": "https://localhost:8080/"
        },
        "id": "vokR1VI6jb3E",
        "outputId": "a1527217-c6ea-49cb-d167-050db2210fea"
      },
      "execution_count": null,
      "outputs": [
        {
          "output_type": "stream",
          "name": "stdout",
          "text": [
            "\n",
            "Confusion Matrix:\n",
            " [[ 0 50  0]\n",
            " [ 3  0 47]\n",
            " [36  0 14]]\n"
          ]
        }
      ]
    },
    {
      "cell_type": "code",
      "source": [
        "#Align cluster labels to true labels using Hungarian algorithm for accuracy\n",
        "row_ind,col_ind = linear_sum_assignment(cm.max()-cm)\n",
        "aligned_labels = np.zeros_like(y_kmeans)\n",
        "for true_label,cluster_label in zip(row_ind,col_ind):\n",
        "  aligned_labels[y_kmeans==cluster_label]=true_label\n",
        "aligned_cm = confusion_matrix(y,aligned_labels)\n",
        "print(\"\\nAligned Confusion Matrix:\\n\",aligned_cm)\n",
        "print(\"\\nAccuracy:\",accuracy_score(y,aligned_labels))"
      ],
      "metadata": {
        "colab": {
          "base_uri": "https://localhost:8080/"
        },
        "id": "wgzDV8O4kY3_",
        "outputId": "a109568c-3b1c-4b1e-a80f-0d1cd35a42e5"
      },
      "execution_count": null,
      "outputs": [
        {
          "output_type": "stream",
          "name": "stdout",
          "text": [
            "\n",
            "Aligned Confusion Matrix:\n",
            " [[50  0  0]\n",
            " [ 0 47  3]\n",
            " [ 0 14 36]]\n",
            "\n",
            "Accuracy: 0.8866666666666667\n"
          ]
        }
      ]
    },
    {
      "cell_type": "code",
      "source": [],
      "metadata": {
        "id": "7iYcJltflC0y"
      },
      "execution_count": null,
      "outputs": []
    }
  ]
}