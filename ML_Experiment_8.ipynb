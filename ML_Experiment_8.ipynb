{
  "nbformat": 4,
  "nbformat_minor": 0,
  "metadata": {
    "colab": {
      "provenance": [],
      "authorship_tag": "ABX9TyPXxOoQTDO+gOJ/cDze1wMn",
      "include_colab_link": true
    },
    "kernelspec": {
      "name": "python3",
      "display_name": "Python 3"
    },
    "language_info": {
      "name": "python"
    }
  },
  "cells": [
    {
      "cell_type": "markdown",
      "metadata": {
        "id": "view-in-github",
        "colab_type": "text"
      },
      "source": [
        "<a href=\"https://colab.research.google.com/github/Kevin101504/Machine-Learning-Lab/blob/main/ML_Experiment_8.ipynb\" target=\"_parent\"><img src=\"https://colab.research.google.com/assets/colab-badge.svg\" alt=\"Open In Colab\"/></a>"
      ]
    },
    {
      "cell_type": "code",
      "execution_count": 1,
      "metadata": {
        "id": "47M1rO0Cnu40",
        "outputId": "e4da34fb-a89d-472b-9c6b-915c1012c723",
        "colab": {
          "base_uri": "https://localhost:8080/",
          "height": 314
        }
      },
      "outputs": [
        {
          "output_type": "error",
          "ename": "ModuleNotFoundError",
          "evalue": "No module named 'hmmlearn'",
          "traceback": [
            "\u001b[0;31m---------------------------------------------------------------------------\u001b[0m",
            "\u001b[0;31mModuleNotFoundError\u001b[0m                       Traceback (most recent call last)",
            "\u001b[0;32m/tmp/ipython-input-631464958.py\u001b[0m in \u001b[0;36m<cell line: 0>\u001b[0;34m()\u001b[0m\n\u001b[0;32m----> 1\u001b[0;31m \u001b[0;32mfrom\u001b[0m \u001b[0mhmmlearn\u001b[0m \u001b[0;32mimport\u001b[0m \u001b[0mhmm\u001b[0m\u001b[0;34m\u001b[0m\u001b[0;34m\u001b[0m\u001b[0m\n\u001b[0m",
            "\u001b[0;31mModuleNotFoundError\u001b[0m: No module named 'hmmlearn'",
            "",
            "\u001b[0;31m---------------------------------------------------------------------------\u001b[0;32m\nNOTE: If your import is failing due to a missing package, you can\nmanually install dependencies using either !pip or !apt.\n\nTo view examples of installing some common dependencies, click the\n\"Open Examples\" button below.\n\u001b[0;31m---------------------------------------------------------------------------\u001b[0m\n"
          ],
          "errorDetails": {
            "actions": [
              {
                "action": "open_url",
                "actionText": "Open Examples",
                "url": "/notebooks/snippets/importing_libraries.ipynb"
              }
            ]
          }
        }
      ],
      "source": [
        "from hmmlearn import hmm\n"
      ]
    },
    {
      "cell_type": "code",
      "source": [
        "import numpy as np\n",
        "\n",
        "# Hidden states and observation symbols\n",
        "states = [\"Sunny\", \"Rainy\"]\n",
        "observations = [\"Walk\", \"Shop\", \"Clean\"]\n",
        "\n",
        "# Define HMM parameters\n",
        "start_prob = np.array([0.7, 0.3])\n",
        "trans_mat = np.array([[0.8, 0.2],\n",
        "                     [0.3, 0.7]])\n",
        "emit_mat = np.array([[0.6, 0.3, 0.1],  # Sunny\n",
        "                    [0.1, 0.4, 0.5]])  # Rainy\n",
        "\n",
        "# Build the model\n",
        "model = hmm.MultinomialHMM(n_components=2, n_iter=100)\n",
        "model.startprob_ = start_prob\n",
        "model.transmat_ = trans_mat\n",
        "model.emissionprob_ = emit_mat\n",
        "model.n_trials = 1  # one trial per observation\n",
        "\n",
        "# Observed sequence: Walk(0), Shop(1), Clean(2), Shop(1), Walk(0)\n",
        "# Convert to one-hot representation (n_samples × n_symbols)\n",
        "obs_seq = np.array([\n",
        "    [1, 0, 0],  # Walk\n",
        "    [0, 1, 0],  # Shop\n",
        "    [0, 0, 1],  # Clean\n",
        "    [0, 1, 0],  # Shop\n",
        "    [1, 0, 0],  # Walk\n",
        "])\n",
        "\n",
        "# Decode (Viterbi)\n",
        "logprob, hidden_states = model.decode(obs_seq, algorithm=\"viterbi\")\n",
        "\n",
        "print(\"Observed sequence:\", [observations[np.argmax(o)] for o in obs_seq])\n",
        "print(\"Most likely hidden states:\", [states[i] for i in hidden_states])\n",
        "print(\"Log probability:\", logprob)"
      ],
      "metadata": {
        "colab": {
          "base_uri": "https://localhost:8080/"
        },
        "id": "XT5faRsVqekd",
        "outputId": "549fbbea-046f-40b6-cef4-58f16a514dce"
      },
      "execution_count": null,
      "outputs": [
        {
          "output_type": "stream",
          "name": "stderr",
          "text": [
            "WARNING:hmmlearn.hmm:MultinomialHMM has undergone major changes. The previous version was implementing a CategoricalHMM (a special case of MultinomialHMM). This new implementation follows the standard definition for a Multinomial distribution (e.g. as in https://en.wikipedia.org/wiki/Multinomial_distribution). See these issues for details:\n",
            "https://github.com/hmmlearn/hmmlearn/issues/335\n",
            "https://github.com/hmmlearn/hmmlearn/issues/340\n"
          ]
        },
        {
          "output_type": "stream",
          "name": "stdout",
          "text": [
            "Observed sequence: ['Walk', 'Shop', 'Clean', 'Shop', 'Walk']\n",
            "Most likely hidden states: ['Sunny', 'Sunny', 'Sunny', 'Sunny', 'Sunny']\n",
            "Log probability: -6.98143109837347\n"
          ]
        }
      ]
    }
  ]
}